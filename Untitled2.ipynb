{
  "nbformat": 4,
  "nbformat_minor": 0,
  "metadata": {
    "colab": {
      "provenance": []
    },
    "kernelspec": {
      "name": "python3",
      "display_name": "Python 3"
    },
    "language_info": {
      "name": "python"
    }
  },
  "cells": [
    {
      "cell_type": "markdown",
      "source": [],
      "metadata": {
        "id": "s-tOBymjpOXk"
      }
    },
    {
      "cell_type": "markdown",
      "source": [
        "# Python Data Structures\n",
        "\n",
        "1. What are data structures and why are they important\n",
        "-  A data structure is a way of organizing, storing and managing data in a computer so that it can be accessed and modified efficiently.\n",
        "\n",
        "2. Explain the difference between mutable and immutable data type with examples\n",
        "- Mutable data type allow their values to be modified after they are created.\n",
        "EX: LISTS, DICTIONARIES.\n",
        "-Immutable data types do not allow their values to be changed after they are created.\n",
        "EX: STRINGS, TUPLES, NUMBERS(INT,FLOAT)\n",
        "\n",
        "3. What are the main differences between lists and tuples in python\n",
        "- List are mutable. Tuples are immutable.\n",
        "List syntax can be defined using \"[]\", Tuples syntax can be defined using \"()\".\n",
        "List performence is slow due to mutability over head. Tuples performence is faster due to immutabilty.\n",
        "List's use cases can be used when data needs to change. Tuples use cases are used for fixed, read only data.\n",
        "Lists iteration is slower(mutable object require extra check). Tuples has faster iteration .\n",
        "\n",
        "4. Describe how dictioneris store data\n",
        "- Dictionaries store dats as key value pairs. The underlying mechanism for storing and accessing this data is based on a hash table.\n",
        "\n",
        "5. Why might you use a set instead of list in python\n",
        "- A set in python is an unordered collection of unique elements, while a list is and ordered collection that can have duplicate elements.\n",
        "\n",
        "6. What is a string in python and how is it different from list\n",
        "- A string in python is a sequence of characters enclosed in either single ('), double(\"), or triple(''' or \"\"\"). Strings are immutable, meaning once created, their content cannot be changed.\n",
        "\n",
        "7. How do tuples insure data intergrity in python\n",
        "- Tuples are immutable data structures in python, meaning their elements cannot be changed, added or removed after the tuples are created. This immutabilty ensures data intergrity by preventing accidential or intentional modifications to the data, making tuples a reliable choice when stability and consistency of data are critical.\n",
        "\n",
        "8. What is hash table and how does it relate to dictionaries in python\n",
        "- A hash table is a data structure that stores key-value pairs. It uses a has function to compute an index (called a hash) for each key, which determines where the corresponding value is stored in memory. hash tables allow for fast access, insertion, and deletion of data, typically in 0(1)time on average.\n",
        "\n",
        "9. Can list contain different data types in python\n",
        "- YES, a list can contain elements of different data types. Python lists are heterogeneous collection, meaning they can store a mix of integers, float, string, objects, or even other lists and data structures.\n",
        "\n",
        "10. Explain why strings are immutable in python\n",
        "- This design choice is intentional and has several benefits related to memory managment, performence,  security and simplicity.\n",
        "\n",
        "11. What advantages do dictionaries offer over lists for certain tasks\n",
        "- Dictionaries offer distinct advantages over lists for specific task due to their ability to store key-value pairs. Here are some key advantages:\n",
        "- Fast lookups by kry\n",
        "- Storing data with unique identifiers\n",
        "- More flexible data representation\n",
        "- Efficient update and deletion by key\n",
        "- Storing non-sequential data\n",
        "\n",
        "12. Describe a scenario where using a tuple would be preferable over list\n",
        "- Developing a map application where you need to represent geographic coordinates(latitude and longitude) for various locations. Each coordinate pair consists of two fixed values:the latitude and the longitude. Once a coordinate is defined, it should not change throughout the program, as it reprsents a specific point on the earths surface.\n",
        "\n",
        "13. How does sets handle duplicate values in python\n",
        "- A set is an unorderd collection of unique elements. This means that sets automatically handle duplicate values by removing duplicates when the set is created or updated. If you try to add an element that already exists in the set, it will not be added again.\n",
        "\n",
        "14. How does the \"in\" keyword works differently for lists and dictionaries\n",
        "- The in keyword is used to check for membership(whether a value exists) in both lists and dictionaries, but the behaviour differs based on the type of collection.\n",
        "\n",
        "15. Can you modify the elements of tuple? explain why or why not\n",
        "- NO, you cannot modify the elements of a tuple after its is created, this is because tuples are immutable in python.\n",
        "\n",
        "16. What is a nested dictionary give a example of its use case\n",
        "- It is a dictionary in which the values are themselves dictionaries. This allows you to represent complex hierarchial dat structures where key value pair can contain more dictionaries or other data types. Representing multi level or structured information.\n",
        "This kind of structure can easily accomadate multiple student each with multiple courses and grades.\n",
        "\n",
        "17. Describe the time complexity of accessing elements in a dictionary\n",
        "- Dictionaries are implemented using a hash table. This implementation allows for efficient access to dictionary elements based on keys. The time complexity of accessing elements in a dictionary depends on the operation being performed.\n",
        "\n",
        "18. In what situation lists are considered over dictionaries\n",
        "- Lists are preferred over dictionaries in situations where ordering, indexed key and simpilicity are key consideration.\n",
        "\n",
        "19. Why are dictionaries considered un ordered and how does it effect data retrival\n",
        "- Dictionaries in python are considered unorderd because the key value pairs in a dictionary are not stored in a specific sequence or order. Unlike lists which are ordered collections, the insertion order of items in a dictionary doesn not dictate how they are stored or retrieved in a memory.\n",
        "\n",
        "\n",
        "\n",
        "\n",
        "\n"
      ],
      "metadata": {
        "id": "BDqT_G0WpR56"
      }
    },
    {
      "cell_type": "code",
      "source": [
        "# create a string with your name and print it\n",
        "\n",
        "my_name = \"kinza\"\n",
        "print(my_name)"
      ],
      "metadata": {
        "colab": {
          "base_uri": "https://localhost:8080/"
        },
        "id": "lySDdh8p54UE",
        "outputId": "a9098a1f-ad0f-4457-8558-d1fd437ec6cc"
      },
      "execution_count": 1,
      "outputs": [
        {
          "output_type": "stream",
          "name": "stdout",
          "text": [
            "kinza\n"
          ]
        }
      ]
    },
    {
      "cell_type": "code",
      "source": [
        "# length of the string hello world\n",
        "\n",
        "string = \"hello world\"\n",
        "len(string)\n",
        "print(len(string))"
      ],
      "metadata": {
        "colab": {
          "base_uri": "https://localhost:8080/"
        },
        "id": "B59b3Qic6rmR",
        "outputId": "f2e607b1-4094-4f8d-85b7-ee7d74158a77"
      },
      "execution_count": 2,
      "outputs": [
        {
          "output_type": "stream",
          "name": "stdout",
          "text": [
            "11\n"
          ]
        }
      ]
    },
    {
      "cell_type": "code",
      "source": [
        "# slicing python programming\n",
        "\n",
        "string = \"python programming\"\n",
        "print(string[0:3])\n"
      ],
      "metadata": {
        "colab": {
          "base_uri": "https://localhost:8080/"
        },
        "id": "flFqY_Du6rt7",
        "outputId": "caa4d269-69d4-47b1-c298-7899749ceb3e"
      },
      "execution_count": 4,
      "outputs": [
        {
          "output_type": "stream",
          "name": "stdout",
          "text": [
            "pyt\n"
          ]
        }
      ]
    },
    {
      "cell_type": "code",
      "source": [
        "# convert hello to upper case\n",
        "\n",
        "string = \"hello\"\n",
        "print(string.upper())"
      ],
      "metadata": {
        "colab": {
          "base_uri": "https://localhost:8080/"
        },
        "id": "1i6_GmoZ6r2r",
        "outputId": "5b911c23-0bd6-4b37-ae34-e36ec6945cd8"
      },
      "execution_count": 5,
      "outputs": [
        {
          "output_type": "stream",
          "name": "stdout",
          "text": [
            "HELLO\n"
          ]
        }
      ]
    },
    {
      "cell_type": "code",
      "source": [
        "# to replace apple with orange in the string i like apple\n",
        "\n",
        "string = \"i like apple\"\n",
        "print(string.replace(\"apple\",\"orange\"))"
      ],
      "metadata": {
        "colab": {
          "base_uri": "https://localhost:8080/"
        },
        "id": "_OaPvfBu6r-F",
        "outputId": "d998b2b6-6051-4fd7-8b50-a8c1ff21020c"
      },
      "execution_count": 6,
      "outputs": [
        {
          "output_type": "stream",
          "name": "stdout",
          "text": [
            "i like orange\n"
          ]
        }
      ]
    },
    {
      "cell_type": "code",
      "source": [
        "# append the number 10 to the list [1,2,3,4]\n",
        "\n",
        "list = [1,2,3,4]\n",
        "list.append(10)\n",
        "print(list)"
      ],
      "metadata": {
        "colab": {
          "base_uri": "https://localhost:8080/"
        },
        "id": "uOiqXMtl6sG1",
        "outputId": "23f8f883-678e-49d9-d70c-b5ad245510c7"
      },
      "execution_count": 7,
      "outputs": [
        {
          "output_type": "stream",
          "name": "stdout",
          "text": [
            "[1, 2, 3, 4, 10]\n"
          ]
        }
      ]
    },
    {
      "cell_type": "code",
      "source": [
        "# remove the number 3 from the list [1,2,3,4,5]\n",
        "\n",
        "list = [1,2,3,4,5]\n",
        "list.remove(3)\n",
        "print(list)"
      ],
      "metadata": {
        "colab": {
          "base_uri": "https://localhost:8080/"
        },
        "id": "dVTqDMEB6sPf",
        "outputId": "046eef59-2b14-4800-af3c-0bd53c3e7eb6"
      },
      "execution_count": 8,
      "outputs": [
        {
          "output_type": "stream",
          "name": "stdout",
          "text": [
            "[1, 2, 4, 5]\n"
          ]
        }
      ]
    },
    {
      "cell_type": "code",
      "source": [
        "# access the second element in the list ['a','b','c','d']\n",
        "\n",
        "list = ['a','b','c','d']\n",
        "print(list[1])"
      ],
      "metadata": {
        "colab": {
          "base_uri": "https://localhost:8080/"
        },
        "id": "9FIdNM5M6sXb",
        "outputId": "59267a9a-83cf-405b-d8d8-04360d35ec03"
      },
      "execution_count": 9,
      "outputs": [
        {
          "output_type": "stream",
          "name": "stdout",
          "text": [
            "b\n"
          ]
        }
      ]
    },
    {
      "cell_type": "code",
      "source": [
        "# to reverse the list [10, 20, 30, 40, 50]\n",
        "\n",
        "list = [10, 20, 30, 40, 50]\n",
        "list.reverse()\n",
        "print(list)"
      ],
      "metadata": {
        "colab": {
          "base_uri": "https://localhost:8080/"
        },
        "id": "zYRC2mdR6seq",
        "outputId": "2467e1fa-7498-45c6-d3d5-81902eadba37"
      },
      "execution_count": 10,
      "outputs": [
        {
          "output_type": "stream",
          "name": "stdout",
          "text": [
            "[50, 40, 30, 20, 10]\n"
          ]
        }
      ]
    },
    {
      "cell_type": "code",
      "source": [
        "# create a tuple with the element 10 20 30 and print it\n",
        "\n",
        "tuple = (10,20,30)\n",
        "print(tuple)"
      ],
      "metadata": {
        "colab": {
          "base_uri": "https://localhost:8080/"
        },
        "id": "ABsCEQmc6sm4",
        "outputId": "aca1ba3a-e29d-4ad1-bea9-228659fce65a"
      },
      "execution_count": 11,
      "outputs": [
        {
          "output_type": "stream",
          "name": "stdout",
          "text": [
            "(10, 20, 30)\n"
          ]
        }
      ]
    },
    {
      "cell_type": "code",
      "source": [
        "# to access the first element of the tuple('apple','banana','cherry')\n",
        "\n",
        "tuple = ('apple','banana','cherry')\n",
        "print(tuple[0])"
      ],
      "metadata": {
        "colab": {
          "base_uri": "https://localhost:8080/"
        },
        "id": "fpuh8McD6suB",
        "outputId": "5df1925c-8b71-4d91-fd13-76dc1496107b"
      },
      "execution_count": 12,
      "outputs": [
        {
          "output_type": "stream",
          "name": "stdout",
          "text": [
            "apple\n"
          ]
        }
      ]
    },
    {
      "cell_type": "code",
      "source": [
        "# count how many times the number 2 appears in the tuple (1, 2, 3, 2, 4, 2)\n",
        "\n",
        "tuple = (1, 2, 3, 2, 4, 2)\n",
        "print(tuple.count(2))"
      ],
      "metadata": {
        "colab": {
          "base_uri": "https://localhost:8080/"
        },
        "id": "2APZbGuu6s1g",
        "outputId": "84ae5dc1-5b7c-4c02-852d-759bcf45877e"
      },
      "execution_count": 13,
      "outputs": [
        {
          "output_type": "stream",
          "name": "stdout",
          "text": [
            "3\n"
          ]
        }
      ]
    },
    {
      "cell_type": "code",
      "source": [
        "# find the index of the element cat in the tupple ('dog','cat','rabbit')\n",
        "\n",
        "tuple = ('dog','cat','rabbit')\n",
        "print(tuple.index('cat'))"
      ],
      "metadata": {
        "colab": {
          "base_uri": "https://localhost:8080/"
        },
        "id": "MuUaJQVp6s9b",
        "outputId": "4e828592-8844-403e-8e63-7631584c70d4"
      },
      "execution_count": 14,
      "outputs": [
        {
          "output_type": "stream",
          "name": "stdout",
          "text": [
            "1\n"
          ]
        }
      ]
    },
    {
      "cell_type": "code",
      "source": [
        "# to check if the element banana is in the tuple ('apple','orange','banana')\n",
        "\n",
        "tuple = ('apple','orange','banana')\n",
        "print('banana' in tuple)"
      ],
      "metadata": {
        "colab": {
          "base_uri": "https://localhost:8080/"
        },
        "id": "tnjnzuCZ6tE3",
        "outputId": "cb9a81cc-7a64-49e0-d8ec-072cd44cd8ef"
      },
      "execution_count": 15,
      "outputs": [
        {
          "output_type": "stream",
          "name": "stdout",
          "text": [
            "True\n"
          ]
        }
      ]
    },
    {
      "cell_type": "code",
      "source": [
        "# create a set with elements 1, 2, 3, 4, 5 and print it\n",
        "\n",
        "set = {1,2,3,4,5}\n",
        "print(set)"
      ],
      "metadata": {
        "colab": {
          "base_uri": "https://localhost:8080/"
        },
        "id": "7TNinnhH6tMv",
        "outputId": "4b204814-8dbc-443d-ecdb-62ddbd1d79db"
      },
      "execution_count": 16,
      "outputs": [
        {
          "output_type": "stream",
          "name": "stdout",
          "text": [
            "{1, 2, 3, 4, 5}\n"
          ]
        }
      ]
    },
    {
      "cell_type": "code",
      "source": [
        "# to add the element 6 to the set {1, 2, 3, 4}\n",
        "\n",
        "set = {1, 2, 3, 4}\n",
        "set.add(6)\n",
        "print(set)"
      ],
      "metadata": {
        "colab": {
          "base_uri": "https://localhost:8080/"
        },
        "id": "zVuR8lEi6tUd",
        "outputId": "dd12f7fc-11bf-4ad9-d280-b46cddfa4660"
      },
      "execution_count": 17,
      "outputs": [
        {
          "output_type": "stream",
          "name": "stdout",
          "text": [
            "{1, 2, 3, 4, 6}\n"
          ]
        }
      ]
    },
    {
      "cell_type": "code",
      "source": [
        "# to create a tuple with the elements 10, 20, 30 and print it\n",
        "\n",
        "tuple = (10,20,30)\n",
        "print(tuple)"
      ],
      "metadata": {
        "colab": {
          "base_uri": "https://localhost:8080/"
        },
        "id": "hskCU8Rb6tbG",
        "outputId": "acacc3b5-8da1-4e0e-b137-4e851a96d113"
      },
      "execution_count": 18,
      "outputs": [
        {
          "output_type": "stream",
          "name": "stdout",
          "text": [
            "(10, 20, 30)\n"
          ]
        }
      ]
    }
  ]
}